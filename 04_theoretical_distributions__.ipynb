{
  "nbformat": 4,
  "nbformat_minor": 0,
  "metadata": {
    "colab": {
      "provenance": [],
      "collapsed_sections": [],
      "authorship_tag": "ABX9TyNIt95xp7hs9nz8zGmeAZqI",
      "include_colab_link": true
    },
    "kernelspec": {
      "name": "python3",
      "display_name": "Python 3"
    },
    "language_info": {
      "name": "python"
    }
  },
  "cells": [
    {
      "cell_type": "markdown",
      "metadata": {
        "id": "view-in-github",
        "colab_type": "text"
      },
      "source": [
        "<a href=\"https://colab.research.google.com/github/Intertangler/biostats2022/blob/main/04_theoretical_distributions__.ipynb\" target=\"_parent\"><img src=\"https://colab.research.google.com/assets/colab-badge.svg\" alt=\"Open In Colab\"/></a>"
      ]
    },
    {
      "cell_type": "markdown",
      "metadata": {
        "id": "tUjkasGUQuT_"
      },
      "source": [
        "# binomial distribution\n",
        "Given the formula for the probability density function (PDF) for a particular distribution, let's make sure we know how to plot it. Like any function, e.g. y = x^2, we can make a plot by creating a range of values and plot the value of our function at each point. In this case, we make a function for the binomial distribution below - its output is the probability for a given set of inputs n, k, and p. \n",
        "\n",
        "The binomial distribution:\n",
        "\n",
        "$P(k, p, n) = p^k (1-p)^{n - k} C_ n^k$\n",
        "\n",
        "where \n",
        "$ C_ n^k = \\frac{n!}{k!(n-k)!}$\n",
        "\n",
        "for n trials, k successes, and a per-trial probability p"
      ]
    },
    {
      "cell_type": "code",
      "metadata": {
        "id": "ANqs4D2cRUpG"
      },
      "source": [
        "# libraries\n",
        "import random\n",
        "import math\n",
        "import operator as op\n",
        "from functools import reduce\n",
        "import matplotlib.pyplot as plt\n",
        "import numpy as np\n",
        "\n",
        "def nck(n, k):\n",
        "    k = min(k, n-k)\n",
        "    numer = reduce(op.mul, range(n, n-k, -1), 1)\n",
        "    denom = reduce(op.mul, range(1, k+1), 1)\n",
        "    return numer // denom  # or / in Python 2\n",
        "\n",
        "def binomial_probability(p,k,n):\n",
        "  prob = p**k*(1-p)**(n-k)*nck(n, k)\n",
        "  return prob    "
      ],
      "execution_count": 2,
      "outputs": []
    },
    {
      "cell_type": "markdown",
      "metadata": {
        "id": "h0jlcAfUjcV4"
      },
      "source": [
        "# Problem 4.1\n",
        "Plot the distribution using this function using, for example, n=10 trials, and p = 0.5 for a range of different successes. I.e. we want to know the probability distribution of the number of heads we could get for ten coin flips.\n",
        "\n",
        "Do some sanity checks - what is the maximum number of heads you could end up with? Does the distribution reflect this? What is the most likely outcome?"
      ]
    },
    {
      "cell_type": "code",
      "metadata": {
        "id": "NSaAbdHPdyO0"
      },
      "source": [
        "probs = []\n",
        "n_trials = 4\n",
        "p = .5\n",
        "\n",
        "max_successes = n_trials\n",
        "### Your code here ###\n",
        "###\n",
        "###\n",
        "###\n"
      ],
      "execution_count": null,
      "outputs": []
    },
    {
      "cell_type": "markdown",
      "metadata": {
        "id": "n0-MO2_KjtBn"
      },
      "source": [
        "# Problem 4.2\n",
        "\n",
        "A particular polyethylene hip replacement part has a 0.3 probability of failure (cracking due to cumulative abrasion) during the lifetime of the patient. A clinic has administered 15 hip replacements. What is the probability that at least 10 fail? Use the equation for the binomial distribution to solve this. \n",
        "\n",
        "## alternative (more coding - though possibly easier?):\n",
        "Rather than using the analytical formula to solve this problem, write a Monte Carlo simulation that recreates several binomial trials to answer the problem. Note that you can use the random.random() function to generate a random number between 0 and 1 that may be used to simulate a trial. "
      ]
    },
    {
      "cell_type": "code",
      "metadata": {
        "id": "CPOU6VzdfXlb"
      },
      "source": [
        "# series analytical solution\n",
        "tot = 0\n",
        "p = 0.3\n",
        "\n",
        "### Your code here ###\n"
      ],
      "execution_count": null,
      "outputs": []
    },
    {
      "cell_type": "markdown",
      "metadata": {
        "id": "cwCwo2UYSC7W"
      },
      "source": [
        "# Problem 4.3\n",
        "\n",
        "Fluorescent blinks during a STORM microscopy experiment are occurring at a mean rate of 0.56 blinks per second. In 1 minute of recording, how many blinks do we expect to occur? What is the probability that we get 40 blinks in 1 minute? What is the probability distribution - i.e. P as a function of k blinks?\n",
        "\n",
        "1. make a function that computes the Poisson probability based on input k successes and the rate\n",
        "2. plot the Poisson probabiliy for a range of k values 0 to 100 blinks"
      ]
    },
    {
      "cell_type": "code",
      "metadata": {
        "id": "RHeXltcsj8Sa"
      },
      "source": [
        "import math\n",
        "def poisson(k, rate, interval):\n",
        "  ### Your code here ###\n",
        "  return p_k_successes"
      ],
      "execution_count": null,
      "outputs": []
    },
    {
      "cell_type": "code",
      "metadata": {
        "id": "fqbbmOciZSHo"
      },
      "source": [
        "import matplotlib.pyplot as plt\n",
        "k_range = list(range(0,100))\n",
        "rate = 0.56\n",
        "interval = 60\n",
        "probs = []\n",
        "for k in k_range:\n",
        "  ### Your code here ###\n",
        "  ###\n",
        "\n",
        "\n",
        "plt.plot(k_range, probs)"
      ],
      "execution_count": null,
      "outputs": []
    },
    {
      "cell_type": "code",
      "source": [],
      "metadata": {
        "id": "Ao3wUCMl65ZW"
      },
      "execution_count": null,
      "outputs": []
    }
  ]
}