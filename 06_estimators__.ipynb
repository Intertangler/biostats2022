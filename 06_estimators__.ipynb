{
  "nbformat": 4,
  "nbformat_minor": 0,
  "metadata": {
    "colab": {
      "provenance": [],
      "collapsed_sections": [],
      "authorship_tag": "ABX9TyN9Z5GxTKJlBC15Hx1zgl5O",
      "include_colab_link": true
    },
    "kernelspec": {
      "name": "python3",
      "display_name": "Python 3"
    },
    "language_info": {
      "name": "python"
    }
  },
  "cells": [
    {
      "cell_type": "markdown",
      "metadata": {
        "id": "view-in-github",
        "colab_type": "text"
      },
      "source": [
        "<a href=\"https://colab.research.google.com/github/Intertangler/biostats2022/blob/main/06_estimators__.ipynb\" target=\"_parent\"><img src=\"https://colab.research.google.com/assets/colab-badge.svg\" alt=\"Open In Colab\"/></a>"
      ]
    },
    {
      "cell_type": "markdown",
      "metadata": {
        "id": "aBuM-k4LVctb"
      },
      "source": [
        "# Problem 6.1 \n",
        "Make a function that computes the estimator for standard deviation, making use of Bessel's correction (N - 1). "
      ]
    },
    {
      "cell_type": "code",
      "metadata": {
        "id": "zYVP9ZMYVtA3",
        "colab": {
          "base_uri": "https://localhost:8080/"
        },
        "outputId": "b3c589c1-954f-4a68-dc65-dc612add5024"
      },
      "source": [
        "data = [1,43,6,45,23,65,687,45,23]\n",
        "\n",
        "\n",
        "import math\n",
        "\n",
        "  \n",
        "def std_est(my_data):\n",
        "#your code here\n",
        "  return my_std_est\n",
        "\n",
        "std_est(data)"
      ],
      "execution_count": null,
      "outputs": [
        {
          "output_type": "execute_result",
          "data": {
            "text/plain": [
              "219.49588707865223"
            ]
          },
          "metadata": {},
          "execution_count": 1
        }
      ]
    },
    {
      "cell_type": "markdown",
      "metadata": {
        "id": "t3WocKXGZtFx"
      },
      "source": [
        "## Problem 6.2 Generating the t-distribution and integral\n",
        "\n",
        "Below we have a function based on the scipy.stats library for computing the confidence interval with a student's t-distribution. As we did with the Gaussian, use the tdist integrating functions below to produce the integral table - i.e. choose a range of \"number of standard deviations away from mu\" to investigate the solutions to the tdistribution integral at."
      ]
    },
    {
      "cell_type": "code",
      "metadata": {
        "id": "hJdZSGovShKQ"
      },
      "source": [
        "import math\n",
        "import numpy as np\n",
        "import scipy.stats as sp\n",
        "import matplotlib.pyplot as plt\n",
        "\n",
        "def tdist(tscore, df):\n",
        "  f = sp.t.pdf(tscore, df)\n",
        "  return f\n",
        "\n",
        "### makes a plot of the t-distribution ###\n",
        "fcurve = []\n",
        "for x in np.linspace(-3,3, 100):\n",
        "  f = tdist(x, df=17)\n",
        "  fcurve += [f]\n",
        "plt.plot(np.linspace(-3,3, 100), fcurve)\n",
        "plt.xlabel(\"tscore\")\n",
        "plt.show()\n",
        "##########################################\n",
        "\n",
        "\n",
        "def compute_integral(N_bins, interval, df):\n",
        "  a = -1*interval\n",
        "  b = interval\n",
        "  dx = (a - b)/N_bins\n",
        "  area = 0\n",
        "  for x in np.linspace(a, b, N_bins):\n",
        "    area += np.abs(dx*tdist(x, df))\n",
        "  return(area)\n",
        "import numpy as np\n",
        "df = 17\n",
        "for tstatistic in np.linspace(0,3,100):\n",
        "  # your code here\n",
        "  ###\n",
        "  ###\n",
        "  ###"
      ],
      "execution_count": null,
      "outputs": []
    },
    {
      "cell_type": "markdown",
      "metadata": {
        "id": "gzGj0ecCWnoa"
      },
      "source": [
        "# Problem 6.3\n",
        "\n",
        "A vitamin D level below 12 ng/mL is considered deficient. The dataset below contains the blood vitamin D levels of an individual measured at multiple different times. We do not know the spread of possible vitamin D levels. What is our 95% confidence limit on the person's mean vitamin D level? Can we say whether the patient has normal vitamin D levels?\n",
        "\n",
        "Generate a t-distribution integral table to figure out the critical t-statistic corresponding to 95% confidence. "
      ]
    },
    {
      "cell_type": "code",
      "metadata": {
        "id": "sjj8TGSCWUcQ"
      },
      "source": [
        "vit_D_data = [12.5, 13.1,11.2,25.3,19.3,28.3,14.2,22.5,13.2,26.3,12.4,22.4,21.1,25.6,25,6,23.3,19.4,18.4,18.6,11.3,14.5,13.5,16.6,17.3,18.4,16.5,23.3,22.4,22.5,21.5,19.6,18.3,18.7,16.3,16.5]\n",
        "\n",
        "meanD = mean(vit_D_data)\n",
        "stdestD = std_est(vit_D_data)\n",
        "sem = stdestD/math.sqrt(len(vit_D_data))\n",
        "for tstatistic in np.linspace(0, 3, 100):\n",
        "  ### your code here\n",
        "  "
      ],
      "execution_count": null,
      "outputs": []
    },
    {
      "cell_type": "markdown",
      "metadata": {
        "id": "zE4wE7Ghh9B6"
      },
      "source": [
        "Using the result from your table, determine the 95% confidence interval for this dataset."
      ]
    },
    {
      "cell_type": "code",
      "metadata": {
        "id": "cky1YWOaeogj"
      },
      "source": [
        "\n",
        "lower_bound = # your code\n",
        "upper_bound = # your code\n",
        "print(lower_bound, upper_bound)"
      ],
      "execution_count": null,
      "outputs": []
    }
  ]
}