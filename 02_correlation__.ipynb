{
  "nbformat": 4,
  "nbformat_minor": 0,
  "metadata": {
    "colab": {
      "provenance": [],
      "collapsed_sections": [],
      "authorship_tag": "ABX9TyNJ+wrQQYMx8ZUOBPIBS/kQ",
      "include_colab_link": true
    },
    "kernelspec": {
      "name": "python3",
      "display_name": "Python 3"
    },
    "language_info": {
      "name": "python"
    }
  },
  "cells": [
    {
      "cell_type": "markdown",
      "metadata": {
        "id": "view-in-github",
        "colab_type": "text"
      },
      "source": [
        "<a href=\"https://colab.research.google.com/github/Intertangler/biostats2022/blob/main/02_correlation__.ipynb\" target=\"_parent\"><img src=\"https://colab.research.google.com/assets/colab-badge.svg\" alt=\"Open In Colab\"/></a>"
      ]
    },
    {
      "cell_type": "markdown",
      "metadata": {
        "id": "fcG1JOASAhUT"
      },
      "source": [
        "An environmental chemical suspected of causing harm to aquatic organisms chemical \"X\" is measured (ppm) simultaneously with organisms sampled for RNA-sequencing. The expression levels in transcript per kilobase million (TPM) for three genes of interest, A and B are examined for each sampled organism. We want to know if there is any relationship between the environmental levels of chemical X and the expression of these genes.\n",
        "\n",
        "Below we have the four ordered datasets (ppm of chemical X, and expression levels of A and B genes) that are linked - i.e. each point in one dataset corresponds to a point at the same position in each of the other datasets. "
      ]
    },
    {
      "cell_type": "code",
      "metadata": {
        "id": "-xi_NPNWhIJM"
      },
      "source": [
        "X = [1.01415653e+02, 3.74099419e-01, 1.83174702e+00, 3.43061157e+00,1.95010652e+00, 6.54739452e+00, 1.74610416e-01, 2.87089208e+01,2.97343428e+01, 2.82559588e+01, 5.06921116e-01, 9.84183959e+00,3.57566043e+02, 1.20138399e+01, 4.70339290e+01, 8.23311851e+01,1.64224158e+00, 1.78549571e+02, 6.47563639e+02, 1.60843799e+02,1.15193915e+02, 3.77315191e+01, 5.13951669e+01, 2.24102292e+00,3.00391505e+02, 6.20051167e+00, 1.21600383e+03, 1.69971486e+02,7.45194747e-02, 1.07370855e+00, 1.42243591e+00, 7.65250975e+00,6.26901455e+01, 2.00475509e+02, 4.70151128e+00, 4.42738565e+01,9.79204254e+00, 2.37184904e+00, 1.55714503e+02, 3.76397388e-01,1.25743316e+01, 2.13220589e+01, 3.61978394e+01, 6.29287631e+01,1.70278808e+01, 7.99583420e-02, 4.36529466e+01, 1.67253806e+03,6.04898163e+00, 7.29828428e+01, 8.18776922e+00, 7.19142277e+01,2.14254671e+02, 5.77157851e-01, 1.31582814e+03, 2.96873630e+00,6.53936902e+01, 4.19728852e+00, 7.62320271e+01, 7.63284415e+01,6.28445727e+01, 8.55197931e-01, 1.18206188e+00, 9.35569458e-02,1.33371259e+02, 9.30197232e+01, 6.07059692e-01, 1.01792787e+01,1.38051613e+00, 2.40496707e+00, 3.23707131e+00, 3.19983145e+00,9.88903665e+02, 1.09072691e+02, 6.70414718e+01, 1.10879042e+02,6.92467135e-01, 4.31671062e+00, 7.87680600e+00, 1.23695984e+03,1.51487975e+02, 2.12731388e+01, 5.35177793e+00, 4.14298617e+00,1.24092709e+01, 1.13144455e+01, 4.68939488e+01, 5.65504096e+01,8.96504900e+02, 2.62381677e+00, 1.24452536e+02, 1.70220110e+01,3.49755760e+00, 1.15673967e+01, 4.70034364e+00, 1.24463721e+01,1.25731962e+02, 4.20395751e+02, 1.02025111e+00, 2.53661526e+01]\n",
        "A = [ 723.11218447,  970.1372523 ,  904.84752335, 1068.00241109, 971.54294796,  823.41771151,  708.97090383,  743.4711076 , 888.27432528,  756.77415062,  817.29880642,  904.16366907, 1017.38622107,  828.8903712 ,  755.2337825 ,  916.8848151 , 616.47324143,  960.03965027, 1608.87263655,  871.67591502, 799.31864927,  892.7473502 , 1231.13319566,  764.88810461, 1160.75914956,  614.33735759, 2081.7404538 ,  910.71015887, 918.525654  ,  895.19376875, 1056.38438407, 1222.62801827, 696.98567583,  853.00434418,  988.19174114,  971.72817599, 764.01644412,  668.94533192,  862.33209474, 1025.41200331, 670.34738358,  704.718065  ,  882.24842669, 1053.28202979, 904.72905543,  550.21583743,  606.56897154, 2386.70454892, 861.19700991,  788.31825496,  819.11475076, 1145.51343221, 625.55847265,  846.30149703, 1906.15720593, 1009.38800887, 956.59079377,  916.37910863,  674.80422907,  723.43307936, 897.42842163,  874.57096089,  945.75914999,  617.57192172, 1073.74583915, 1323.87240361,  917.26052524,  746.79624902, 940.6387122 ,  667.45162615,  874.90068181,  896.64302461, 1961.17202583,  887.86269633,  998.61498434,  962.08636185, 797.14047746,  642.79606484,  754.89913713, 2162.85754217, 767.38979132,  962.75909871,  873.03097459,  828.09375704, 891.14068365,  705.77442534,  834.82757835,  956.34521385, 1552.47664319, 1211.05520526, 1118.67544317,  705.36664795, 852.02859701,  631.45220962,  978.97448361,  791.88548597, 949.35482418, 1192.91812129,  934.39958808,  820.6794133    ]\n",
        "B = [ 2.87730818, 2.47220358, 1.89718365, 3.66303004, 4.72603019, 2.39133783, 2.38510931, 2.16125613, 3.8109868 , 3.77380397, 2.10022669, 2.42065335, 5.91068853, 3.0711653 , 4.07377362, 4.56521985, 2.36724086, 5.2553197 , 6.48971558, 5.13921331, 4.867456  , 3.87234868, 4.12108274, 2.6237043 , 5.73553117, 2.52352606, 7.11384506, 5.13720824, 2.34556541, 2.41185292, 1.57284827, 2.7011052 , 4.35355643, 5.33893725, 2.48004957, 4.09569465, 3.17619792, 2.16136426, 5.06888416, 2.8958701 , 3.11552077, 3.53745796, 3.92526875, 4.18939106, 3.06724469, 2.40786223, 4.01265205, 7.42789287, 2.71875744, 4.45410673, 2.75409149, 4.44115573, 5.42989401, 2.22583823, 7.18421731, 2.7270347 , 4.32884811, 2.63677158, 4.49092186, 4.39705724, 4.28944586, 2.61504658, 2.45990789, 2.38312622, 4.9557326 , 4.63935934, 1.97220222, 3.32046609, 2.02235924, 2.90445573, 2.80981565, 2.24930357, 6.91331797, 4.78953338, 4.2961102 , 4.77693058, 2.56490557, 2.30862627, 3.19203857, 7.12907688, 5.09336095, 3.47439657, 2.99146219, 2.47905153, 3.42089505, 3.2136674 , 3.96884606, 4.22613002, 6.81200759, 2.93557344, 4.89318034, 3.18409197, 2.91356876, 2.84889259, 2.0500531 , 2.82805793, 4.89213786, 6.06801899, 2.55998951, 3.67745602     ]"
      ],
      "execution_count": null,
      "outputs": []
    },
    {
      "cell_type": "markdown",
      "metadata": {
        "id": "bvkdA_AOEZRO"
      },
      "source": [
        "We can use numpy's correlation coefficient and covariance functions to immediately get our answer - run the code below. Based on these numbers, how might we expect a graph of X vs A, X vs B, and A vs B to look?"
      ]
    },
    {
      "cell_type": "code",
      "metadata": {
        "id": "eFbEo9Cshee2"
      },
      "source": [
        "import numpy as np\n",
        "print(np.corrcoef([X,A,B]),\"\\n \\n\",np.cov([X,A,B]))"
      ],
      "execution_count": null,
      "outputs": []
    },
    {
      "cell_type": "markdown",
      "metadata": {
        "id": "Vc0NgnRuEjX9"
      },
      "source": [
        "# Problem 2.1 \n",
        "Make scatter plots of X vs A, X vs B, and A vs B. Define your own covariance and correlation computing functions for a pair of input datasets. Then test each of the possible pairings of datasets, X with A, X with B, B with A, etc...\n",
        "\n",
        "## discussion\n",
        "What do you conclude about the data? Is chemical X level correlated with any of the genes and to what extent if so, negitively or positively?  What can we say about the relationship between the genes in the absence of chemical X? Do scatter plots of the data agree with your conclusion?"
      ]
    },
    {
      "cell_type": "code",
      "metadata": {
        "id": "IjfQYCsAhxIX"
      },
      "source": [
        "import math\n",
        "import matplotlib.pyplot as plt\n",
        "\n",
        "### your code here - plotting ###\n",
        "###\n",
        "###\n",
        "###\n",
        "\n",
        " \n",
        "def cov(X, Y):\n",
        "  ### your code here ###\n",
        "  ###\n",
        "  ###\n",
        "  ###\n",
        "  return cov\n",
        "\n",
        "def corr(X, Y):\n",
        "  ### your code here ###\n",
        "  ###\n",
        "  ###\n",
        "  ###\n",
        "  return corr\n",
        "\n",
        "print(cov(X,A), corr(X,A))\n",
        "print(cov(X,B), corr(X,B))\n",
        "print(cov(A,B), corr(A,B))"
      ],
      "execution_count": null,
      "outputs": []
    },
    {
      "cell_type": "markdown",
      "source": [
        "From the last problem, you should notice some trends. The standard (Pearson) correlation is appropriate for detecting linear relationships. However nonlinear relationships are better detected with rank correlation (Spearman). You should be able to visually identify one candidate among the datasets above that has a strong but nonlinear relation.\n",
        "\n",
        "# Problem 2.2\n",
        "Use the rank_of() function below to plot the rank of X vs rank of B. Create your own rank (Spearman) correlation function using the rank_of() function and its defintion. Is the value that you get higher or lower than the classical (Pearson) correlation from above?\n",
        "\n",
        "Based on what you've seen, would you make any conclusions about the impact of chemical X on' expression of genes A or B? \n"
      ],
      "metadata": {
        "id": "zXLE23Vpu3-C"
      }
    },
    {
      "cell_type": "code",
      "source": [
        "def rank_of(X):\n",
        "  rank_X = np.array([sorted(X).index(v) for v in X])\n",
        "  return rank_X\n",
        "\n",
        "### your code here - plotting ###\n",
        "\n",
        "def corr_spearman(X,Y):\n",
        "  ### your code here ###\n",
        "  ###\n",
        "  ###\n",
        "  ###\n",
        "  return corrs\n",
        "\n",
        "from scipy import stats\n",
        "stats.spearmanr(X,B),corr_spearman(X,B)"
      ],
      "metadata": {
        "id": "XWM1I9vbnlaF"
      },
      "execution_count": null,
      "outputs": []
    }
  ]
}