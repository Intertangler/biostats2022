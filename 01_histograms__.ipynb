{
  "nbformat": 4,
  "nbformat_minor": 0,
  "metadata": {
    "colab": {
      "provenance": [],
      "collapsed_sections": [],
      "authorship_tag": "ABX9TyPADWqGdtwXznaWYflwxjeA",
      "include_colab_link": true
    },
    "kernelspec": {
      "name": "python3",
      "display_name": "Python 3"
    },
    "language_info": {
      "name": "python"
    }
  },
  "cells": [
    {
      "cell_type": "markdown",
      "metadata": {
        "id": "view-in-github",
        "colab_type": "text"
      },
      "source": [
        "<a href=\"https://colab.research.google.com/github/Intertangler/biostats2022/blob/main/01_histograms__.ipynb\" target=\"_parent\"><img src=\"https://colab.research.google.com/assets/colab-badge.svg\" alt=\"Open In Colab\"/></a>"
      ]
    },
    {
      "cell_type": "markdown",
      "metadata": {
        "id": "IjGBA_uohpiB"
      },
      "source": [
        "# basic statistics on a 1D dataset\n",
        "\n",
        "A researcher gathers particle size data (in nanometers) from a light scattering experiment hoping to gather insights about a protein solution prepared in the lab. The data is included below in the list \"size_data\".\n",
        "\n",
        "And using the numpy library you can see how it is possible to quickly determine basic statistical quantities - the mean, variance, and standard deviation.\n"
      ]
    },
    {
      "cell_type": "code",
      "metadata": {
        "id": "-yHx0e8UxQ-h"
      },
      "source": [
        "size_data_1 = [227.6045474 ,  19.34116382, 145.37069822, 191.91577007,179.67585642, 124.73950395,  81.28856388, 150.71206679,226.55669478, 275.92594711,  85.93458364, 208.88749762,179.7813995 , 149.65500546, 198.85211556,  82.82843157,156.70865402, 120.85609222, 296.21096196, 381.5564377 ,184.96249273, 226.44667141, 262.8150589 ,  11.18750083, 40.11203309, 100.02380946, 160.11471621,  26.72929001,150.21328552, 171.03818238, 297.79962731, 244.52132034,211.17236409,  86.97559846, 217.79733067,  48.04170943,163.3716528 , 141.1840801 , 158.57950135,  62.23016176,169.38738946, 113.17182811, 173.27907209, 290.09021683,311.95443517, 174.49599456, 168.74930467, 242.35728317,332.06455661, 102.05048069, 102.22543133, 241.48426374,177.30680936,   4.99650377, 180.01612201, 142.18729383,378.86462741,  14.39431646, 266.81810034, 195.65748413, 17.64347202, 311.49630863, 164.94502733, 385.21552097, 51.8519903 , 299.14786702,  22.66312718, 127.93861859, 56.030069  , 298.30721238, 138.16175743, 114.98664538,231.85555539,  36.80529428, 262.90411002,  87.11787159, 74.5496317 ,  97.43209249, 294.29421786, 226.66053058,246.00638186,  76.00596295,   5.98043015,  22.07693643,201.69095915, 237.6940952 ,  99.24176089,  42.21892322, 64.66632955, 144.14803156, 227.89241158, 183.86744726,160.20765936, 122.32096397,  64.77699038, 166.90001486,262.93969737, 251.20509082, 217.04123825, 178.13662703]\n",
        "size_data_2 = [145.85165613, 158.7974971 , 154.58346716, 532.07194985,139.03693622, 117.73318815,  67.01245782, 141.56576287,221.09314249, 183.6329077 , 131.3309767 , 153.40649454,139.58604232,  83.25735983, 235.37733716,  63.86986689, 80.10611521, 178.71348622, 148.43948722, 107.46823164,189.47699613,  73.176832  , 247.74210233, 153.94766876,129.12315906, 125.56413133, 388.65036607,  94.61849359,556.87457528, 116.12869307, 194.12200849, 158.32329728,187.97628874, 217.46347187, 139.65990693,  63.36290054,104.78804882, 158.37251229, 382.76275326, 247.78503544, 78.67896274, 154.73902313, 210.0296779 ,  79.51735504,126.60153576, 185.72479712, 104.95735225,  75.56738029, 75.12494086, 187.44569434, 154.14599138, 328.57029903, 89.14093349, 270.81860862, 273.74562216, 215.94029585,196.14415101, 179.53224165, 242.65488221, 135.36803983,106.87327796, 136.04479511,  60.97942795,  31.25946678, 86.81991147, 187.26000657, 184.6723131 ,  92.89355858,234.12274114,  55.1373388 ,  65.33152421,  84.86130273,150.08771786, 195.88715336, 388.81883679, 207.14885669,223.43804159,  59.33756423, 232.43060601, 174.01389339,146.43928677, 177.21377348,  72.58178382,  74.37155271,139.92765124, 169.21367581, 368.60175184,  94.68918702, 62.98264798, 116.30402906,  70.58241883, 238.34983318,116.05071182, 202.91528371, 338.96711385, 201.36526042,148.06399639, 111.59570958, 177.01275832, 115.30894584]"
      ],
      "execution_count": null,
      "outputs": []
    },
    {
      "cell_type": "code",
      "metadata": {
        "colab": {
          "base_uri": "https://localhost:8080/"
        },
        "id": "AY-jkB6zjC5F",
        "outputId": "3505fc57-2bd3-42da-816f-56f6e8534596"
      },
      "source": [
        "import numpy as np\n",
        "np.mean(size_data_1), np.var(size_data_1), np.std(size_data_1)"
      ],
      "execution_count": null,
      "outputs": [
        {
          "output_type": "execute_result",
          "data": {
            "text/plain": [
              "(165.06294764259997, 8441.019705645575, 91.87502220759228)"
            ]
          },
          "metadata": {},
          "execution_count": 2
        }
      ]
    },
    {
      "cell_type": "markdown",
      "metadata": {
        "id": "ABwUMZI0lPYy"
      },
      "source": [
        "# Problem 1.1\n",
        "Write your own functions to determine mean, variance, and standard deviation. Use your knowledge of the formulas comined with loops and programming concepts to build the function from scratch. Test your functions by comparing the results to the numpy functions above - they should be the same down to several decimal places.\n",
        "\n",
        "What do these descriptors tell you about the two datasets? "
      ]
    },
    {
      "cell_type": "code",
      "metadata": {
        "id": "tDxPWeOPM_cy"
      },
      "source": [
        "import math\n",
        "\n",
        "\n",
        "def mean(data):\n",
        "  ### your code here\n",
        "  ###\n",
        "  ###\n",
        "  return my_mean\n",
        "\n",
        "def var(data):\n",
        "  ### your code here\n",
        "  ###\n",
        "  ###\n",
        "  return my_var\n",
        "\n",
        "def std(data):\n",
        "  ### your code here\n",
        "  ###\n",
        "  ###\n",
        "  return my_std\n",
        "\n",
        "for i in [size_data_1,size_data_2]:\n",
        "  print(mean(i),var(i),std(i))"
      ],
      "execution_count": null,
      "outputs": []
    },
    {
      "cell_type": "markdown",
      "metadata": {
        "id": "vpI2cG442pWM"
      },
      "source": [
        "# histograms \n",
        "Let's make a histogram of this data to visualize it. Important points to keep in mind:\n",
        "- this is 1D data, so frequency and size will be our axes of the histogram\n",
        "- the data is currently unstructured, and to build a histogram, data must be sorted into ranked bins \n",
        "- each bin should cover a particular size range e.g. from 20 to 40 nm, such that 24.6435 would land in the bin. "
      ]
    },
    {
      "cell_type": "code",
      "metadata": {
        "id": "PHQAMkG73IYb"
      },
      "source": [
        "import matplotlib.pyplot as plt\n",
        "plt.hist(size_data_1, bins=\"auto\",density=True)\n",
        "plt.xlabel(\"size [nm]\")\n",
        "plt.ylabel(\"frequency\")\n",
        "plt.show()\n",
        "\n",
        "plt.hist(size_data_2, bins=\"auto\",density=True)\n",
        "plt.xlabel(\"size [nm]\")\n",
        "plt.ylabel(\"frequency\")\n",
        "plt.show()"
      ],
      "execution_count": null,
      "outputs": []
    },
    {
      "cell_type": "markdown",
      "metadata": {
        "id": "On_PepSK4py0"
      },
      "source": [
        "# Problem 1.2\n",
        "Create your own bins and remake the histogram. Define the bins such that there are a total of 30 evenly spaced bins that span the range of data - i.e. there should be at least one datapoint in both the first and last bin. How about if there are 8 bins? What do you think is the appropriate number of bins for this data and why?\n",
        "\n",
        "## hint - if you are having trouble\n",
        "A function that you can use to accomplish this task:\n",
        "https://numpy.org/doc/stable/reference/generated/numpy.linspace.html\n"
      ]
    },
    {
      "cell_type": "code",
      "metadata": {
        "id": "Tz8zj-Ox3VvM"
      },
      "source": [
        "newbins_1 =   ### your code here\n",
        "\n",
        "newbins_2 =   ### your code here"
      ],
      "execution_count": null,
      "outputs": []
    },
    {
      "cell_type": "code",
      "metadata": {
        "id": "JsRDeR446RNs"
      },
      "source": [
        "import matplotlib.pyplot as plt\n",
        "plt.hist(size_data_1, bins=newbins_1,density=True)\n",
        "plt.xlabel(\"size [nm]\")\n",
        "plt.ylabel(\"frequency\")\n",
        "plt.show()\n",
        "\n",
        "plt.hist(size_data_2, bins=newbins_2,density=True)\n",
        "plt.xlabel(\"size [nm]\")\n",
        "plt.ylabel(\"frequency\")\n",
        "plt.show()"
      ],
      "execution_count": null,
      "outputs": []
    },
    {
      "cell_type": "markdown",
      "source": [
        "## challenge problem\n",
        "Based on what you have seen from mean, variance, and standard deviation, as well as visualization with histograms, how similar are these two datasets? Let's add one more descriptive statistic to the mix in order to allow us a more complete description of its shape: \n",
        "\n",
        "Write a function that computes the skewness of the data. "
      ],
      "metadata": {
        "id": "wKNgs5WQYyaX"
      }
    },
    {
      "cell_type": "code",
      "source": [
        "def skew(data):\n",
        "  ### your code here\n",
        "  ###\n",
        "  ###\n",
        "  return my_skew\n",
        "\n",
        "\n",
        "for i in [size_data_1,size_data_2]:\n",
        "  print(mean(i),var(i),std(i), skew(i))"
      ],
      "metadata": {
        "colab": {
          "base_uri": "https://localhost:8080/"
        },
        "id": "iArrJ8c-en8F",
        "outputId": "d636571e-283a-4036-e9a2-d5dc2da08cd8"
      },
      "execution_count": null,
      "outputs": [
        {
          "output_type": "stream",
          "name": "stdout",
          "text": [
            "165.06294764260002 8441.01970564557 91.87502220759227 0.20640732323107397\n",
            "165.77257095149997 8777.918334721568 93.69054559944439 1.7317221324523737\n"
          ]
        }
      ]
    },
    {
      "cell_type": "markdown",
      "source": [
        "Finally, for completeness, let's take a look at the other visualization strategies besides the histogram. Run the code below to generate a box plot and violin plot."
      ],
      "metadata": {
        "id": "qnwuvsmjf2Qn"
      }
    },
    {
      "cell_type": "code",
      "source": [
        "plt.boxplot([size_data_1,size_data_2])\n",
        "plt.xlabel(\"size [nm]\")\n",
        "plt.ylabel(\"frequency\")\n",
        "plt.show()\n",
        "\n",
        "plt.violinplot([size_data_1,size_data_2])\n",
        "plt.xlabel(\"size [nm]\")\n",
        "plt.ylabel(\"frequency\")\n",
        "plt.show()"
      ],
      "metadata": {
        "id": "7Vu_uL9zYxWG"
      },
      "execution_count": null,
      "outputs": []
    }
  ]
}