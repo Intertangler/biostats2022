{
  "nbformat": 4,
  "nbformat_minor": 0,
  "metadata": {
    "colab": {
      "provenance": [],
      "collapsed_sections": [],
      "authorship_tag": "ABX9TyMRCQna/YcPCaIBAtN9TzdC",
      "include_colab_link": true
    },
    "kernelspec": {
      "name": "python3",
      "display_name": "Python 3"
    },
    "language_info": {
      "name": "python"
    }
  },
  "cells": [
    {
      "cell_type": "markdown",
      "metadata": {
        "id": "view-in-github",
        "colab_type": "text"
      },
      "source": [
        "<a href=\"https://colab.research.google.com/github/Intertangler/biostats2022/blob/main/00_lists_loops_programming__.ipynb\" target=\"_parent\"><img src=\"https://colab.research.google.com/assets/colab-badge.svg\" alt=\"Open In Colab\"/></a>"
      ]
    },
    {
      "cell_type": "markdown",
      "metadata": {
        "id": "CbcEKddqDvoz"
      },
      "source": [
        "# a quick review of sequential data types and loops\n",
        "Below we make a list"
      ]
    },
    {
      "cell_type": "code",
      "metadata": {
        "colab": {
          "base_uri": "https://localhost:8080/"
        },
        "id": "xLWMu9AADqO8",
        "outputId": "54d442f6-eabc-4864-a042-3e4e81c713bd"
      },
      "source": [
        "my_list = [\"first item\", \"second item\", \"blablabla\", \"more stuff\"]\n",
        "print(my_list)"
      ],
      "execution_count": null,
      "outputs": [
        {
          "output_type": "stream",
          "name": "stdout",
          "text": [
            "['first item', 'second item', 'blablabla', 'more stuff']\n"
          ]
        }
      ]
    },
    {
      "cell_type": "markdown",
      "metadata": {
        "id": "WQmcpX7yEptL"
      },
      "source": [
        "### indexing\n",
        "To access an item in the list, we use square bracket notation. Note that numbering of the elements starts with the zeroth element. So to get \"blablabla\" we must use 2 as our index.\n"
      ]
    },
    {
      "cell_type": "code",
      "metadata": {
        "colab": {
          "base_uri": "https://localhost:8080/",
          "height": 35
        },
        "id": "EvuZgKsUEnGI",
        "outputId": "96806275-9b77-45df-de5d-6ae6b9feb421"
      },
      "source": [
        "my_list[2]"
      ],
      "execution_count": null,
      "outputs": [
        {
          "output_type": "execute_result",
          "data": {
            "text/plain": [
              "'blablabla'"
            ],
            "application/vnd.google.colaboratory.intrinsic+json": {
              "type": "string"
            }
          },
          "metadata": {},
          "execution_count": 2
        }
      ]
    },
    {
      "cell_type": "markdown",
      "metadata": {
        "id": "UzkKibI_E6-y"
      },
      "source": [
        "### indexing ranges\n",
        "Let's slice a couple elements out of a list using a range of indices."
      ]
    },
    {
      "cell_type": "code",
      "metadata": {
        "colab": {
          "base_uri": "https://localhost:8080/"
        },
        "id": "HLewpGM_Evgi",
        "outputId": "07dcf9d1-9b9d-4da2-a3e7-50a461e451dd"
      },
      "source": [
        "my_second_list = [3,6,3,2,6,8,54,3,6,45,7,34,7,34,7,786,45,34,23,567,87]\n",
        "my_range = my_second_list[0:8]\n",
        "print(my_range)"
      ],
      "execution_count": null,
      "outputs": [
        {
          "output_type": "stream",
          "name": "stdout",
          "text": [
            "[3, 6, 3, 2, 6, 8, 54, 3]\n"
          ]
        }
      ]
    },
    {
      "cell_type": "markdown",
      "metadata": {
        "id": "wJb9ik6WFzGb"
      },
      "source": [
        "## looping 1\n",
        "Let's make a basic loop that prints out each element in the list as it loops through. We will use the same indexing rules above to access each element according to the changing value of the iterator - a list of integers defined with the range() function."
      ]
    },
    {
      "cell_type": "code",
      "metadata": {
        "colab": {
          "base_uri": "https://localhost:8080/"
        },
        "id": "9Hj0YS2YF5PK",
        "outputId": "752149c4-247b-4670-e394-742d744e2dd1"
      },
      "source": [
        "my_list_to_loop_through = [5,7,4,7,3,7,98,5,34,657,345,687,345,897,234]\n",
        "n = len(my_list_to_loop_through)\n",
        "\n",
        "for i in range(0, n):\n",
        "  print(my_list_to_loop_through[i])"
      ],
      "execution_count": null,
      "outputs": [
        {
          "output_type": "stream",
          "name": "stdout",
          "text": [
            "5\n",
            "7\n",
            "4\n",
            "7\n",
            "3\n",
            "7\n",
            "98\n",
            "5\n",
            "34\n",
            "657\n",
            "345\n",
            "687\n",
            "345\n",
            "897\n",
            "234\n"
          ]
        }
      ]
    },
    {
      "cell_type": "markdown",
      "metadata": {
        "id": "yosdzIoBFN_J"
      },
      "source": [
        "## looping 2\n",
        "Let's make a loop that adds the number 3 to every element in a list of numbers and then stores the resulting modified list as a new list."
      ]
    },
    {
      "cell_type": "code",
      "metadata": {
        "colab": {
          "base_uri": "https://localhost:8080/"
        },
        "id": "t1I7MLMgFKXZ",
        "outputId": "981a2c2d-897e-4abe-e52a-c1818a084046"
      },
      "source": [
        "original_list = [1,2,3,4,5,6,7,8,9,10,11,12,13,14,15,16,17,18,19,20]\n",
        "modified_list = []\n",
        "for i in range(0, len(original_list)):\n",
        "  modified_element = original_list[i] + 3\n",
        "  modified_list += [modified_element]  ### this line \"grows\" the originally empty list by appending a new element\n",
        "\n",
        "print(modified_list)"
      ],
      "execution_count": null,
      "outputs": [
        {
          "output_type": "stream",
          "name": "stdout",
          "text": [
            "[4, 5, 6, 7, 8, 9, 10, 11, 12, 13, 14, 15, 16, 17, 18, 19, 20, 21, 22, 23]\n"
          ]
        }
      ]
    },
    {
      "cell_type": "markdown",
      "metadata": {
        "id": "52YURLh3GeSS"
      },
      "source": [
        "## looping 3 and plotting\n",
        "Let's create two lists for producing a plot. One list will be a set of x values, the other a list of y = x^2 + 4x values that are each computed as a function f(x) of x. "
      ]
    },
    {
      "cell_type": "code",
      "metadata": {
        "colab": {
          "base_uri": "https://localhost:8080/"
        },
        "id": "Z4Rj3SdVFtvq",
        "outputId": "b5fa1d75-ee90-4576-a0c1-a6765ce094b6"
      },
      "source": [
        "x_values = [1,2,3,4,5,6,7,8,9,10,11,12,13,14]\n",
        "y_values = []\n",
        "\n",
        "for i in range(0, len(x_values)):\n",
        "  x = x_values[i]\n",
        "  y = x**2 + 4*x\n",
        "  y_values += [y] ### this line \"grows\" the originally empty list by appending a new element\n",
        "\n",
        "print(y_values)"
      ],
      "execution_count": null,
      "outputs": [
        {
          "output_type": "stream",
          "name": "stdout",
          "text": [
            "[5, 12, 21, 32, 45, 60, 77, 96, 117, 140, 165, 192, 221, 252]\n"
          ]
        }
      ]
    },
    {
      "cell_type": "markdown",
      "metadata": {
        "id": "Trkihzz-H3Aq"
      },
      "source": [
        "Now we plot the two lists as a scatter."
      ]
    },
    {
      "cell_type": "code",
      "metadata": {
        "colab": {
          "base_uri": "https://localhost:8080/",
          "height": 283
        },
        "id": "wCmjaiCUH2Eg",
        "outputId": "4b6b45f9-bf20-4338-e3a4-7716f692adf6"
      },
      "source": [
        "import matplotlib.pyplot as plt\n",
        "\n",
        "plt.scatter(x_values, y_values)"
      ],
      "execution_count": null,
      "outputs": [
        {
          "output_type": "execute_result",
          "data": {
            "text/plain": [
              "<matplotlib.collections.PathCollection at 0x7f333b849810>"
            ]
          },
          "metadata": {},
          "execution_count": 7
        },
        {
          "output_type": "display_data",
          "data": {
            "text/plain": [
              "<Figure size 432x288 with 1 Axes>"
            ],
            "image/png": "[encoded data removed]"
          },
          "metadata": {
            "needs_background": "light"
          }
        }
      ]
    },
    {
      "cell_type": "markdown",
      "source": [
        "# conditional statements\n",
        "We can create a fork in our program, i.e. an \"if-statement\" or conditional statement. This enables us to execute different blocks of code depending on whether or not some criterion is met. Have a look below:"
      ],
      "metadata": {
        "id": "ZI-8FbwViGMI"
      }
    },
    {
      "cell_type": "code",
      "source": [
        "my_number = 33\n",
        "if my_number == 33:\n",
        "  print(\"the number is 33\")\n",
        "elif my_number < 33:\n",
        "  print(\"the number is less than 33\")\n",
        "else:\n",
        "  print(\"the number is neither less than nor equal to 33\")"
      ],
      "metadata": {
        "id": "JHhtLttUieUi"
      },
      "execution_count": null,
      "outputs": []
    },
    {
      "cell_type": "markdown",
      "metadata": {
        "id": "BKzyn5f3IEow"
      },
      "source": [
        "## that's the basic idea\n",
        "\n",
        "Loops and sequential data types are the single most important concept in programming. There is, of course, a lot more to it that what we covered here. But this is the basic idea, and once you get the hang of it, you will be able to go far beyond the capabilities of calculators and spreadsheets. Good luck programming!"
      ]
    },
    {
      "cell_type": "markdown",
      "metadata": {
        "id": "bIFnfYStIuSh"
      },
      "source": [
        "# practice problem\n",
        "\n",
        "If you feel shaky on these concepts still, try this exercise, utilizing snippets of code from above to help guide you:\n",
        "\n",
        "1. Create your own set of X values by making a list with several integers\n",
        "2. Determine N, the number of elements in the list with the len() function\n",
        "3. Create a for-loop with an iterator i that takes on a range of integers from 0 up to N\n",
        "4. Inside the for-loop, access an individual x value from your list using indexing with the iterator i and square-bracket notation\n",
        "5. Create a y value that is a modified version of the x value you just found\n",
        "6. Print the y value out using the print() function"
      ]
    },
    {
      "cell_type": "code",
      "source": [
        "#### your code here ####"
      ],
      "metadata": {
        "id": "EUGVLJHdz8Hy"
      },
      "execution_count": null,
      "outputs": []
    },
    {
      "cell_type": "markdown",
      "source": [
        "# problem 0.1\n",
        "\n",
        "Write a function that uses a for-loop to compute the logarithm of each item in a list of data points and which stores those logarithm values in a separate list. Since some of the datapoints are negative, and you cannot take a log of a negative number, have the script set any negative values to 0 instead. When you're done, make a scatter plot of the original data versus the modified data. You may use the numpy logarithm function numpy.log() or np.log() to compute logs. Note that you must first import the numpy library to do that. "
      ],
      "metadata": {
        "id": "O3j3JOhluu_e"
      }
    },
    {
      "cell_type": "code",
      "source": [
        "import numpy as np\n",
        "import matplotlib.pyplot as plt\n",
        "\n",
        "modified_data = []\n",
        "my_data = [10, 105, -0.1, 809, -0.8, 0.3,-0.7,86, -0.8, 7025, 306, 599]\n",
        "### YOUR CODE HERE ###\n",
        "####\n",
        "####\n",
        "####\n",
        "####\n",
        "\n"
      ],
      "metadata": {
        "id": "DYyv_ayHwcit"
      },
      "execution_count": null,
      "outputs": []
    }
  ]
}